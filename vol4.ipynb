{
 "cells": [
  {
   "cell_type": "code",
   "execution_count": 88,
   "metadata": {},
   "outputs": [
    {
     "ename": "ModuleNotFoundError",
     "evalue": "No module named 'fbprophet'",
     "output_type": "error",
     "traceback": [
      "\u001b[0;31m---------------------------------------------------------------------------\u001b[0m",
      "\u001b[0;31mModuleNotFoundError\u001b[0m                       Traceback (most recent call last)",
      "\u001b[0;32m<ipython-input-88-7d3b0810b1d2>\u001b[0m in \u001b[0;36m<module>\u001b[0;34m\u001b[0m\n\u001b[0;32m----> 1\u001b[0;31m \u001b[0;32mfrom\u001b[0m \u001b[0mfbprophet\u001b[0m \u001b[0;32mimport\u001b[0m \u001b[0mProphet\u001b[0m\u001b[0;34m\u001b[0m\u001b[0;34m\u001b[0m\u001b[0m\n\u001b[0m\u001b[1;32m      2\u001b[0m \u001b[0;32mimport\u001b[0m \u001b[0mpandas\u001b[0m \u001b[0;32mas\u001b[0m \u001b[0mpd\u001b[0m\u001b[0;34m\u001b[0m\u001b[0;34m\u001b[0m\u001b[0m\n\u001b[1;32m      3\u001b[0m \u001b[0;32mimport\u001b[0m \u001b[0mmatplotlib\u001b[0m\u001b[0;34m.\u001b[0m\u001b[0mpyplot\u001b[0m \u001b[0;32mas\u001b[0m \u001b[0mplt\u001b[0m\u001b[0;34m\u001b[0m\u001b[0;34m\u001b[0m\u001b[0m\n\u001b[1;32m      4\u001b[0m \u001b[0;32mimport\u001b[0m \u001b[0mdatetime\u001b[0m \u001b[0;32mas\u001b[0m \u001b[0mdt\u001b[0m\u001b[0;34m\u001b[0m\u001b[0;34m\u001b[0m\u001b[0m\n",
      "\u001b[0;31mModuleNotFoundError\u001b[0m: No module named 'fbprophet'"
     ]
    }
   ],
   "source": [
    "from fbprophet import Prophet\n",
    "import pandas as pd\n",
    "import matplotlib.pyplot as plt\n",
    "import datetime as dt"
   ]
  },
  {
   "cell_type": "markdown",
   "metadata": {},
   "source": [
    "data = pd.read_csv(\"probka.csv\")\n",
    "data.head()"
   ]
  },
  {
   "cell_type": "code",
   "execution_count": 87,
   "metadata": {},
   "outputs": [
    {
     "data": {
      "text/html": [
       "<div>\n",
       "<style scoped>\n",
       "    .dataframe tbody tr th:only-of-type {\n",
       "        vertical-align: middle;\n",
       "    }\n",
       "\n",
       "    .dataframe tbody tr th {\n",
       "        vertical-align: top;\n",
       "    }\n",
       "\n",
       "    .dataframe thead th {\n",
       "        text-align: right;\n",
       "    }\n",
       "</style>\n",
       "<table border=\"1\" class=\"dataframe\">\n",
       "  <thead>\n",
       "    <tr style=\"text-align: right;\">\n",
       "      <th></th>\n",
       "      <th>name</th>\n",
       "      <th>date</th>\n",
       "      <th>open</th>\n",
       "      <th>high</th>\n",
       "      <th>low</th>\n",
       "      <th>close</th>\n",
       "      <th>volume</th>\n",
       "    </tr>\n",
       "  </thead>\n",
       "  <tbody>\n",
       "    <tr>\n",
       "      <th>0</th>\n",
       "      <td>ALIOR</td>\n",
       "      <td>02-01-2015</td>\n",
       "      <td>77.92</td>\n",
       "      <td>78.00</td>\n",
       "      <td>76.58</td>\n",
       "      <td>77.05</td>\n",
       "      <td>68501</td>\n",
       "    </tr>\n",
       "    <tr>\n",
       "      <th>1</th>\n",
       "      <td>ALIOR</td>\n",
       "      <td>05-01-2015</td>\n",
       "      <td>76.76</td>\n",
       "      <td>79.80</td>\n",
       "      <td>75.43</td>\n",
       "      <td>75.43</td>\n",
       "      <td>73483</td>\n",
       "    </tr>\n",
       "    <tr>\n",
       "      <th>2</th>\n",
       "      <td>ALIOR</td>\n",
       "      <td>07-01-2015</td>\n",
       "      <td>75.63</td>\n",
       "      <td>79.50</td>\n",
       "      <td>75.63</td>\n",
       "      <td>76.30</td>\n",
       "      <td>126594</td>\n",
       "    </tr>\n",
       "    <tr>\n",
       "      <th>3</th>\n",
       "      <td>ALIOR</td>\n",
       "      <td>08-01-2015</td>\n",
       "      <td>77.23</td>\n",
       "      <td>79.51</td>\n",
       "      <td>77.01</td>\n",
       "      <td>79.50</td>\n",
       "      <td>317013</td>\n",
       "    </tr>\n",
       "    <tr>\n",
       "      <th>4</th>\n",
       "      <td>ALIOR</td>\n",
       "      <td>09-01-2015</td>\n",
       "      <td>79.50</td>\n",
       "      <td>80.25</td>\n",
       "      <td>78.95</td>\n",
       "      <td>79.27</td>\n",
       "      <td>442572</td>\n",
       "    </tr>\n",
       "  </tbody>\n",
       "</table>\n",
       "</div>"
      ],
      "text/plain": [
       "    name        date   open   high    low  close  volume\n",
       "0  ALIOR  02-01-2015  77.92  78.00  76.58  77.05   68501\n",
       "1  ALIOR  05-01-2015  76.76  79.80  75.43  75.43   73483\n",
       "2  ALIOR  07-01-2015  75.63  79.50  75.63  76.30  126594\n",
       "3  ALIOR  08-01-2015  77.23  79.51  77.01  79.50  317013\n",
       "4  ALIOR  09-01-2015  79.50  80.25  78.95  79.27  442572"
      ]
     },
     "execution_count": 87,
     "metadata": {},
     "output_type": "execute_result"
    }
   ],
   "source": [
    "alior = data.loc[data[\"name\"] == \"ALIOR\"]\n",
    "alior.head()"
   ]
  },
  {
   "cell_type": "code",
   "execution_count": 62,
   "metadata": {},
   "outputs": [
    {
     "name": "stdout",
     "output_type": "stream",
     "text": [
      "<class 'pandas.core.frame.DataFrame'>\n",
      "Int64Index: 1247 entries, 0 to 1246\n",
      "Data columns (total 7 columns):\n",
      " #   Column  Non-Null Count  Dtype  \n",
      "---  ------  --------------  -----  \n",
      " 0   name    1247 non-null   object \n",
      " 1   date    1247 non-null   object \n",
      " 2   open    1247 non-null   float64\n",
      " 3   high    1247 non-null   float64\n",
      " 4   low     1247 non-null   float64\n",
      " 5   close   1247 non-null   float64\n",
      " 6   volume  1247 non-null   int64  \n",
      "dtypes: float64(4), int64(1), object(2)\n",
      "memory usage: 77.9+ KB\n"
     ]
    }
   ],
   "source": [
    "alior.info()"
   ]
  },
  {
   "cell_type": "code",
   "execution_count": 67,
   "metadata": {},
   "outputs": [
    {
     "data": {
      "text/html": [
       "<div>\n",
       "<style scoped>\n",
       "    .dataframe tbody tr th:only-of-type {\n",
       "        vertical-align: middle;\n",
       "    }\n",
       "\n",
       "    .dataframe tbody tr th {\n",
       "        vertical-align: top;\n",
       "    }\n",
       "\n",
       "    .dataframe thead th {\n",
       "        text-align: right;\n",
       "    }\n",
       "</style>\n",
       "<table border=\"1\" class=\"dataframe\">\n",
       "  <thead>\n",
       "    <tr style=\"text-align: right;\">\n",
       "      <th></th>\n",
       "      <th>name</th>\n",
       "      <th>date</th>\n",
       "      <th>open</th>\n",
       "      <th>high</th>\n",
       "      <th>low</th>\n",
       "      <th>close</th>\n",
       "      <th>volume</th>\n",
       "    </tr>\n",
       "  </thead>\n",
       "  <tbody>\n",
       "    <tr>\n",
       "      <th>0</th>\n",
       "      <td>ALIOR</td>\n",
       "      <td>2015-01-02</td>\n",
       "      <td>77.92</td>\n",
       "      <td>78.00</td>\n",
       "      <td>76.58</td>\n",
       "      <td>77.05</td>\n",
       "      <td>68501</td>\n",
       "    </tr>\n",
       "    <tr>\n",
       "      <th>1</th>\n",
       "      <td>ALIOR</td>\n",
       "      <td>2015-01-05</td>\n",
       "      <td>76.76</td>\n",
       "      <td>79.80</td>\n",
       "      <td>75.43</td>\n",
       "      <td>75.43</td>\n",
       "      <td>73483</td>\n",
       "    </tr>\n",
       "    <tr>\n",
       "      <th>2</th>\n",
       "      <td>ALIOR</td>\n",
       "      <td>2015-01-07</td>\n",
       "      <td>75.63</td>\n",
       "      <td>79.50</td>\n",
       "      <td>75.63</td>\n",
       "      <td>76.30</td>\n",
       "      <td>126594</td>\n",
       "    </tr>\n",
       "    <tr>\n",
       "      <th>3</th>\n",
       "      <td>ALIOR</td>\n",
       "      <td>2015-01-08</td>\n",
       "      <td>77.23</td>\n",
       "      <td>79.51</td>\n",
       "      <td>77.01</td>\n",
       "      <td>79.50</td>\n",
       "      <td>317013</td>\n",
       "    </tr>\n",
       "    <tr>\n",
       "      <th>4</th>\n",
       "      <td>ALIOR</td>\n",
       "      <td>2015-01-09</td>\n",
       "      <td>79.50</td>\n",
       "      <td>80.25</td>\n",
       "      <td>78.95</td>\n",
       "      <td>79.27</td>\n",
       "      <td>442572</td>\n",
       "    </tr>\n",
       "  </tbody>\n",
       "</table>\n",
       "</div>"
      ],
      "text/plain": [
       "    name       date   open   high    low  close  volume\n",
       "0  ALIOR 2015-01-02  77.92  78.00  76.58  77.05   68501\n",
       "1  ALIOR 2015-01-05  76.76  79.80  75.43  75.43   73483\n",
       "2  ALIOR 2015-01-07  75.63  79.50  75.63  76.30  126594\n",
       "3  ALIOR 2015-01-08  77.23  79.51  77.01  79.50  317013\n",
       "4  ALIOR 2015-01-09  79.50  80.25  78.95  79.27  442572"
      ]
     },
     "execution_count": 67,
     "metadata": {},
     "output_type": "execute_result"
    }
   ],
   "source": [
    "alior_df = alior.copy()\n",
    "alior_df[\"date\"] = pd.to_datetime(alior_df[\"date\"], format = \"%d-%m-%Y\")\n",
    "#alior_df[\"date\"] = pd.to_datetime(alior_df[\"date\"].dt.strftime('%Y-%m-%d'))\n",
    "alior_df.head()"
   ]
  },
  {
   "cell_type": "code",
   "execution_count": 64,
   "metadata": {},
   "outputs": [
    {
     "name": "stdout",
     "output_type": "stream",
     "text": [
      "<class 'pandas.core.frame.DataFrame'>\n",
      "Int64Index: 1247 entries, 0 to 1246\n",
      "Data columns (total 7 columns):\n",
      " #   Column  Non-Null Count  Dtype         \n",
      "---  ------  --------------  -----         \n",
      " 0   name    1247 non-null   object        \n",
      " 1   date    1247 non-null   datetime64[ns]\n",
      " 2   open    1247 non-null   float64       \n",
      " 3   high    1247 non-null   float64       \n",
      " 4   low     1247 non-null   float64       \n",
      " 5   close   1247 non-null   float64       \n",
      " 6   volume  1247 non-null   int64         \n",
      "dtypes: datetime64[ns](1), float64(4), int64(1), object(1)\n",
      "memory usage: 77.9+ KB\n"
     ]
    }
   ],
   "source": [
    "alior_df.info()"
   ]
  },
  {
   "cell_type": "code",
   "execution_count": 73,
   "metadata": {},
   "outputs": [
    {
     "data": {
      "text/plain": [
       "Text(0.5, 1.0, \"Alior's Volume History\")"
      ]
     },
     "execution_count": 73,
     "metadata": {},
     "output_type": "execute_result"
    },
    {
     "data": {
      "image/png": "[encoded data removed]",
      "text/plain": [
       "<Figure size 1008x360 with 2 Axes>"
      ]
     },
     "metadata": {
      "needs_background": "light"
     },
     "output_type": "display_data"
    }
   ],
   "source": [
    "f, (ax1, ax2) = plt.subplots(1, 2, figsize = (14, 5))\n",
    "ax1.plot(alior_df[\"date\"], alior_df[\"close\"])\n",
    "ax1.set_xlabel(\"Date\", fontsize=12)\n",
    "ax1.set_ylabel(\"Stock Price\")\n",
    "ax1.set_title(\"Stock Prices of one of the biggest Polish Banks\")\n",
    "\n",
    "ax1.plot(alior_df[\"date\"], alior_df[\"high\"], color = \"g\")\n",
    "ax1.set_xlabel(\"Date\", fontsize=12)\n",
    "ax1.set_ylabel(\"Stock Price\")\n",
    "ax1.set_title(\"Stock Prices of one of the biggest Polish Banks\")\n",
    "\n",
    "ax1.plot(alior_df[\"date\"], alior_df[\"close\"], color = \"r\")\n",
    "ax1.set_xlabel(\"Date\", fontsize=12)\n",
    "ax1.set_ylabel(\"Stock Price\")\n",
    "ax1.set_title(\"Stock Prices of one of the biggest Polish Banks\")\n",
    "\n",
    "ax2.plot(alior_df[\"date\"], alior_df[\"volume\"], color = \"orange\")\n",
    "ax2.set_xlabel(\"Date\", fontsize=12)\n",
    "ax2.set_ylabel(\"Number of Stocks\")\n",
    "ax2.set_title(\"Alior's Volume History\")"
   ]
  },
  {
   "cell_type": "code",
   "execution_count": 74,
   "metadata": {},
   "outputs": [
    {
     "ename": "NameError",
     "evalue": "name 'Prophet' is not defined",
     "output_type": "error",
     "traceback": [
      "\u001b[0;31m---------------------------------------------------------------------------\u001b[0m",
      "\u001b[0;31mNameError\u001b[0m                                 Traceback (most recent call last)",
      "\u001b[0;32m<ipython-input-74-5412cc2ef842>\u001b[0m in \u001b[0;36m<module>\u001b[0;34m\u001b[0m\n\u001b[0;32m----> 1\u001b[0;31m \u001b[0mm\u001b[0m \u001b[0;34m=\u001b[0m \u001b[0mProphet\u001b[0m\u001b[0;34m(\u001b[0m\u001b[0;34m)\u001b[0m\u001b[0;34m\u001b[0m\u001b[0;34m\u001b[0m\u001b[0m\n\u001b[0m\u001b[1;32m      2\u001b[0m \u001b[0mm\u001b[0m\u001b[0;34m.\u001b[0m\u001b[0mfit\u001b[0m\u001b[0;34m(\u001b[0m\u001b[0malior_df\u001b[0m\u001b[0;34m)\u001b[0m\u001b[0;34m\u001b[0m\u001b[0;34m\u001b[0m\u001b[0m\n",
      "\u001b[0;31mNameError\u001b[0m: name 'Prophet' is not defined"
     ]
    }
   ],
   "source": [
    "m = Prophet()\n",
    "m.fit(alior_df)"
   ]
  },
  {
   "cell_type": "code",
   "execution_count": null,
   "metadata": {},
   "outputs": [],
   "source": []
  }
 ],
 "metadata": {
  "kernelspec": {
   "display_name": "Python 3",
   "language": "python",
   "name": "python3"
  },
  "language_info": {
   "codemirror_mode": {
    "name": "ipython",
    "version": 3
   },
   "file_extension": ".py",
   "mimetype": "text/x-python",
   "name": "python",
   "nbconvert_exporter": "python",
   "pygments_lexer": "ipython3",
   "version": "3.7.6"
  }
 },
 "nbformat": 4,
 "nbformat_minor": 2
}
